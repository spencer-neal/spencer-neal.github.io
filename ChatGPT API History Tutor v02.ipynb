{
 "cells": [
  {
   "cell_type": "code",
   "execution_count": 2,
   "id": "af2728d4",
   "metadata": {},
   "outputs": [],
   "source": [
    "#ChatGPT API History Tutor v02\n",
    "\n",
    "#This is a simple script for a ChatBot to serve as a US History Tutor\n",
    "#The Prompt requests the user to enter \"END\" to terminate the chat.\n",
    "\n",
    "import os\n",
    "import openai\n",
    "import tiktoken\n",
    "\n",
    "\n",
    "openai.api_key = os.getenv(\"OPENAI_API_KEY\")\n",
    "\n",
    "\n",
    "class CreateBot:\n",
    "    \n",
    "    def __init__(self, system_prompt):\n",
    "        self.system = system_prompt\n",
    "        self.messages = [{'role':'system', 'content': system_prompt},]\n",
    "        \n",
    "    def chat(self):\n",
    "        \n",
    "        print('To terminate conversation, type \"END\"')\n",
    "        question = ''\n",
    "        \n",
    "        while question != \"END\":\n",
    "            #USER INPUT\n",
    "            question = input(\"\")\n",
    "            print('\\n')\n",
    "            #ADD TO THE MESSAGES LIST OF DICTIONARY\n",
    "            self.messages.append({'role':'user', 'content':question})\n",
    "            #GRAB RESPONSE FROM CHATGPT\n",
    "            response = openai.ChatCompletion.create(\n",
    "                                    model= 'gpt-3.5-turbo',\n",
    "                                    messages=self.messages)\n",
    "            \n",
    "            #GRAB ASSISTANT MESSAGE (CONTENT)\n",
    "            content = response['choices'][0]['messages']['content']\n",
    "            print('\\n')\n",
    "            print(content)\n",
    "            print('\\n')\n",
    "            self.messages.append({'role':'assistant', 'content':content})\n",
    "        #input()"
   ]
  },
  {
   "cell_type": "code",
   "execution_count": 3,
   "id": "da7e479c",
   "metadata": {},
   "outputs": [
    {
     "data": {
      "text/plain": [
       "[{'role': 'system', 'content': 'You are a US History Tutor'}]"
      ]
     },
     "execution_count": 3,
     "metadata": {},
     "output_type": "execute_result"
    }
   ],
   "source": [
    "history_tutor = CreateBot(system_prompt='You are a US History Tutor')\n",
    "\n",
    "history_tutor.messages"
   ]
  },
  {
   "cell_type": "code",
   "execution_count": 4,
   "id": "e653e827",
   "metadata": {},
   "outputs": [
    {
     "data": {
      "text/plain": [
       "'You are a US History Tutor'"
      ]
     },
     "execution_count": 4,
     "metadata": {},
     "output_type": "execute_result"
    }
   ],
   "source": [
    "history_tutor.system"
   ]
  },
  {
   "cell_type": "code",
   "execution_count": null,
   "id": "2679bebb",
   "metadata": {},
   "outputs": [
    {
     "name": "stdout",
     "output_type": "stream",
     "text": [
      "To terminate conversation, type \"END\"\n"
     ]
    }
   ],
   "source": [
    "history_tutor.chat()"
   ]
  },
  {
   "cell_type": "code",
   "execution_count": null,
   "id": "91aff0a4",
   "metadata": {},
   "outputs": [],
   "source": []
  },
  {
   "cell_type": "code",
   "execution_count": null,
   "id": "69ce1d11",
   "metadata": {},
   "outputs": [],
   "source": []
  },
  {
   "cell_type": "code",
   "execution_count": null,
   "id": "ea913f71",
   "metadata": {},
   "outputs": [],
   "source": []
  },
  {
   "cell_type": "code",
   "execution_count": 21,
   "id": "71242d20",
   "metadata": {},
   "outputs": [],
   "source": [
    "\n"
   ]
  },
  {
   "cell_type": "code",
   "execution_count": null,
   "id": "2fe769dd",
   "metadata": {},
   "outputs": [],
   "source": []
  }
 ],
 "metadata": {
  "kernelspec": {
   "display_name": "Python 3 (ipykernel)",
   "language": "python",
   "name": "python3"
  },
  "language_info": {
   "codemirror_mode": {
    "name": "ipython",
    "version": 3
   },
   "file_extension": ".py",
   "mimetype": "text/x-python",
   "name": "python",
   "nbconvert_exporter": "python",
   "pygments_lexer": "ipython3",
   "version": "3.9.12"
  }
 },
 "nbformat": 4,
 "nbformat_minor": 5
}
